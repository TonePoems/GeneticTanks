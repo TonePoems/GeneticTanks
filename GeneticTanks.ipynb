{
 "cells": [
  {
   "cell_type": "code",
   "execution_count": 9,
   "metadata": {},
   "outputs": [],
   "source": [
    "%matplotlib inline\n",
    "import pandas as pd\n",
    "import matplotlib\n",
    "import matplotlib.pyplot as plt\n",
    "import numpy as np\n",
    "import re\n",
    "import math\n",
    "\n",
    "from deap import algorithms\n",
    "from deap import base\n",
    "from deap import creator\n",
    "from deap import tools\n",
    "from deap import gp\n",
    "\n",
    "plt.style.use('seaborn-whitegrid')\n",
    "matplotlib.rcParams['figure.figsize'] = (10.0, 4.0)"
   ]
  },
  {
   "cell_type": "markdown",
   "metadata": {},
   "source": [
    "# Base Tank Class\n",
    "This class is the tamplate that will hold the genetic code as its instruction set that can be run.\n",
    "Movement is based on being placed in a 10 x 10 grid and can be modified by the GRID_SIZE var."
   ]
  },
  {
   "cell_type": "code",
   "execution_count": 28,
   "metadata": {},
   "outputs": [
    {
     "name": "stdout",
     "output_type": "stream",
     "text": [
      "Forw\n",
      "   Coord: (2,1)\n",
      "Shields\n",
      "   On\n",
      "TurnR\n",
      "   Dir: 0\n",
      "TurnL\n",
      "   Dir: 90\n",
      "Coord: (2,1)\n",
      "Dir: 90\n",
      "Energy: 970\n"
     ]
    }
   ],
   "source": [
    "GRID_SIZE = 10\n",
    "\n",
    "class Tank :    \n",
    "    def __init__(self, X, Y, facing, instructions) : #string of instructions to be executed every turn of the evaluation sim\n",
    "        self.X = X #starting x location\n",
    "        self.Y = Y #starting y location\n",
    "        self.facing = facing #starting facing direction in degrees (E: 0, N: 90, W: 180, S: 270)\n",
    "        \n",
    "        self.shields = False #if shields are powered on or not\n",
    "        \n",
    "        self.instructions = instructions\n",
    "        self.instructCode = compile(instructions, 'mulstring', 'exec') #compile the instructions to be run with exec()\n",
    "        \n",
    "        self.energy = 1000 #start with 1000 energy\n",
    "        self.roundEnergy = 0 #the energy lost in a single round. This is subtracted at end of round\n",
    "        \n",
    "        \n",
    "    def execInstructions(self) :\n",
    "        exec(self.instructCode) #run this tanks logic code\n",
    "        \n",
    "        self.TotalEnergyLost() #calculate all the energy lost after running these instructions\n",
    "        self.shields = False #turn shields off\n",
    "    \n",
    "    #set up base functions for the tank\n",
    "    def Forw(self) : #move tank forward one step in the facing direction\n",
    "        self.roundEnergy += 10 #moving costs 10 energy\n",
    "        \n",
    "        if self.facing == 0 and self.X != GRID_SIZE : #facing right, moving in X direction\n",
    "            self.X += 1 #increase x position\n",
    "        elif self.facing == 90 and self.Y != 0 : #facing up, moving in Y direction\n",
    "            self.Y -= 1 #decrease y position\n",
    "        elif self.facing == 180 and self.X != 0 : #facing left, moving in X direction\n",
    "            self.X -= 1 #decrease x position\n",
    "        elif self.facing == 270 and self.Y != GRID_SIZE : #facing down, moving in Y direction\n",
    "            self.Y += 1 #increase y position\n",
    "        \n",
    "        print(\"Forw\")\n",
    "        print(\"   Coord: (\" + str(self.X) + \",\" + str(self.Y) + \")\")\n",
    "    \n",
    "    def TurnL(self) : #turn tank left\n",
    "        self.roundEnergy += 10 #turning costs 10 energy\n",
    "        \n",
    "        self.facing = (self.facing + 90) % 360 #rotate to next cardinal directions and mod to reset to 0 if 360\n",
    "        \n",
    "        print(\"TurnL\")\n",
    "        print(\"   Dir: \" + str(self.facing))\n",
    "        \n",
    "    def TurnR(self) : #turn tank right\n",
    "        self.roundEnergy += 10 #turning costs 10 energy\n",
    "        \n",
    "        self.facing = self.facing - 90 #rotate to next cardinal directions\n",
    "        self.facing -= 360 * math.floor(self.facing * (1. / 360.)) #standardize [0, 360]\n",
    "        \n",
    "        print(\"TurnR\")\n",
    "        print(\"   Dir: \" + str(self.facing))\n",
    "        \n",
    "    def ActivateShields(self) : #activate tank's shields\n",
    "        self.roundEnergy += 20 #turning costs 10 energy\n",
    "        \n",
    "        self.shields = True #turn on shields\n",
    "        \n",
    "        print(\"Shields\")\n",
    "        print(\"   On\")\n",
    "        \n",
    "    def Wait(self) : #no-op\n",
    "        pass #costs no energy\n",
    "        \n",
    "    def TotalEnergyLost(self) : #apply all lost energy at end of round\n",
    "        self.energy -= self.roundEnergy #subtract all energy lost in this round\n",
    "        self.roundEnergy = 0 #reset energy for the next round\n",
    "    \n",
    "    #toString Function for printing\n",
    "    def __str__(self) :\n",
    "        return (\"Coord: (\" + str(self.X) + \",\" + str(self.Y) +\n",
    "                \")\\nDir: \" + str(self.facing) +\n",
    "                \"\\nEnergy: \" + str(self.energy))\n",
    "        \n",
    "        \n",
    "#Test Tank class code\n",
    "tank = Tank(2, 2, 90, \"self.Forw() \\nself.ActivateShields()\")\n",
    "tank.execInstructions()\n",
    "tank.TurnR()\n",
    "tank.TurnL()\n",
    "\n",
    "print(tank)"
   ]
  },
  {
   "cell_type": "markdown",
   "metadata": {},
   "source": [
    "# Deap GP Section\n",
    "https://deap.readthedocs.io/en/master/tutorials/advanced/gp.html\n",
    "Used for creating the genetic tank variants"
   ]
  },
  {
   "cell_type": "code",
   "execution_count": 35,
   "metadata": {},
   "outputs": [
    {
     "name": "stdout",
     "output_type": "stream",
     "text": [
      "True\n",
      "TurnL\n",
      "   Dir: 0\n",
      "True\n",
      "TurnL\n",
      "   Dir: 90\n",
      "False\n",
      "TurnL\n",
      "   Dir: 180\n",
      "False\n"
     ]
    }
   ],
   "source": [
    "def if_wall(tank, output1, output2) : #execute output1 if tank is directly facing a wall, otherwise output2\n",
    "    #             Facing right wall                             Facing top wall                        Facing left wall                        Facing bottom wall\n",
    "    facingWall = (tank.X == GRID_SIZE and tank.facing == 0) or (tank.Y == 0 and tank.facing == 90) or (tank.X == 0 and tank.facing == 180) or (tank.Y == GRID_SIZE and tank.facing == 270)\n",
    "    return output1 if facingWall else output2\n",
    "\n",
    "\n",
    "\n",
    "#pset = PrimitiveSetTyped(\"main\", [bool, float], float)\n",
    "#pset.addPrimitive(if_wall, [Tank, float, float], float)\n",
    "\n",
    "tank = Tank(10, 10, 270, \"\")\n",
    "print(if_wall(tank, \"True\", \"False\"))\n",
    "tank.TurnL()\n",
    "print(if_wall(tank, \"True\", \"False\"))\n",
    "tank.TurnL()\n",
    "print(if_wall(tank, \"True\", \"False\"))\n",
    "tank.TurnL()\n",
    "print(if_wall(tank, \"True\", \"False\"))\n"
   ]
  }
 ],
 "metadata": {
  "kernelspec": {
   "display_name": "Python 3",
   "language": "python",
   "name": "python3"
  },
  "language_info": {
   "codemirror_mode": {
    "name": "ipython",
    "version": 3
   },
   "file_extension": ".py",
   "mimetype": "text/x-python",
   "name": "python",
   "nbconvert_exporter": "python",
   "pygments_lexer": "ipython3",
   "version": "3.7.3"
  }
 },
 "nbformat": 4,
 "nbformat_minor": 2
}
