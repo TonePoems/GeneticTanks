{
 "cells": [
  {
   "cell_type": "code",
   "execution_count": 1,
   "metadata": {},
   "outputs": [],
   "source": [
    "%matplotlib inline\n",
    "import pandas as pd\n",
    "import matplotlib\n",
    "import matplotlib.pyplot as plt\n",
    "import numpy as np\n",
    "import re\n",
    "import math\n",
    "\n",
    "from deap import algorithms\n",
    "from deap import base\n",
    "from deap import creator\n",
    "from deap import tools\n",
    "from deap import gp\n",
    "\n",
    "plt.style.use('seaborn-whitegrid')\n",
    "matplotlib.rcParams['figure.figsize'] = (10.0, 4.0)"
   ]
  },
  {
   "cell_type": "markdown",
   "metadata": {},
   "source": [
    "# Base Tank Class\n",
    "This class is the tamplate that will hold the genetic code as its instruction set that can be run\n",
    "Movement is based on being placed in a 10 x 10 grid and can be modified by the GRID_SIZE var."
   ]
  },
  {
   "cell_type": "code",
   "execution_count": 8,
   "metadata": {},
   "outputs": [
    {
     "name": "stdout",
     "output_type": "stream",
     "text": [
      "0\n",
      "90\n",
      "X: 0\n",
      "Y: 0\n",
      "Dir: 90\n",
      "Energy: 980\n"
     ]
    }
   ],
   "source": [
    "GRID_SIZE = 10\n",
    "\n",
    "class Tank :    \n",
    "    def __init__(self, X, Y, facing, instructions) : #string of instructions to be executed every turn of the evaluation sim\n",
    "        self.X = X #starting x location\n",
    "        self.Y = Y #starting y location\n",
    "        self.facing = facing #starting facing direction in degrees (E: 0, N: 90, W: 180, S: 270)\n",
    "        \n",
    "        self.shields = False #if shields are powered on or not\n",
    "        \n",
    "        self.instructions = instructions\n",
    "        self.instructCode = compile(instructions, 'mulstring', 'exec') #compile the instructions to be run with exec()\n",
    "        \n",
    "        self.energy = 1000 #start with 1000 energy\n",
    "        self.roundEnergy = 0 #the energy lost in a single round. This is subtracted at end of round\n",
    "        \n",
    "        \n",
    "    def execInstructions(self) :\n",
    "        exec(self.instructCode) #run this tanks logic code\n",
    "        \n",
    "        self.TotalEnergyLost() #calculate all the energy lost after running these instructions\n",
    "        self.shields = False #turn shields \n",
    "    \n",
    "    #set up base functions for the tank\n",
    "    def TurnL(self) : #turn tank left\n",
    "        self.roundEnergy += 10 #turning costs 10 energy\n",
    "        \n",
    "        self.facing = (self.facing + 90) % 360 #rotate to next cardinal directions and mod to reset to 0 if 360\n",
    "        print(self.facing)\n",
    "        \n",
    "    def TurnR(self) : #turn tank right\n",
    "        self.roundEnergy += 10 #turning costs 10 energy\n",
    "        \n",
    "        self.facing = self.facing - 90 #rotate to next cardinal directions\n",
    "        self.facing -= 360 * math.floor(self.facing * (1. / 360.)) #standardize [0, 360]\n",
    "        print(self.facing)\n",
    "        \n",
    "    def ActivateShields(self) : #activate tank's shields\n",
    "        self.roundEnergy += 20 #turning costs 10 energy\n",
    "        \n",
    "        self.shields = True #turn on shields\n",
    "        \n",
    "    def Wait(self) : #no-op\n",
    "        pass #costs no energy\n",
    "        \n",
    "    def TotalEnergyLost(self) : #apply all lost energy at end of round\n",
    "        self.energy -= self.roundEnergy #subtract all energy lost in this round\n",
    "        self.roundEnergy = 0 #reset energy for the next round\n",
    "    \n",
    "    #toString Function for printing\n",
    "    def __str__(self) :\n",
    "        return (\"X: \" + str(self.X) +\n",
    "                \"\\nY: \" + str(self.Y) +\n",
    "                \"\\nDir: \" + str(self.facing) +\n",
    "                \"\\nEnergy: \" + str(self.energy))\n",
    "        \n",
    "        \n",
    "#Test Tank class code\n",
    "tank = Tank(0, 0, 90, \"\")\n",
    "tank.execInstructions()\n",
    "\n",
    "tank.TurnR()\n",
    "tank.TurnL()\n",
    "print(tank)"
   ]
  }
 ],
 "metadata": {
  "kernelspec": {
   "display_name": "Python 3",
   "language": "python",
   "name": "python3"
  },
  "language_info": {
   "codemirror_mode": {
    "name": "ipython",
    "version": 3
   },
   "file_extension": ".py",
   "mimetype": "text/x-python",
   "name": "python",
   "nbconvert_exporter": "python",
   "pygments_lexer": "ipython3",
   "version": "3.7.3"
  }
 },
 "nbformat": 4,
 "nbformat_minor": 2
}
