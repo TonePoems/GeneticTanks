{
 "cells": [
  {
   "cell_type": "code",
   "execution_count": 2,
   "metadata": {},
   "outputs": [],
   "source": [
    "%matplotlib inline\n",
    "import pandas as pd\n",
    "import matplotlib\n",
    "import matplotlib.pyplot as plt\n",
    "import numpy as np\n",
    "import re\n",
    "\n",
    "from deap import algorithms\n",
    "from deap import base\n",
    "from deap import creator\n",
    "from deap import tools\n",
    "from deap import gp\n",
    "\n",
    "plt.style.use('seaborn-whitegrid')\n",
    "matplotlib.rcParams['figure.figsize'] = (10.0, 4.0)"
   ]
  },
  {
   "cell_type": "markdown",
   "metadata": {},
   "source": [
    "# Base Tank Class"
   ]
  },
  {
   "cell_type": "code",
   "execution_count": null,
   "metadata": {},
   "outputs": [],
   "source": [
    "class Tank\n",
    "    def __init__(self, X, Y, facing, instructions) : #string of instructions to be executed every turn of the evaluation sim\n",
    "        self.X = X #starting x location\n",
    "        self.Y = Y #starting y location\n",
    "        self.facing = facing #starting facing direction\n",
    "        \n",
    "        self.instructions = instructions\n",
    "        self.instructCode = compile(instructions, 'mulstring', 'exec') #compile the instructions to be run with exec()\n",
    "        \n",
    "        self.energy = 1000 #start with 1000 energy\n",
    "        \n",
    "    def execInstructions(self) :\n",
    "        exec(self.instructCode) #run this tanks logic code\n",
    "    \n",
    "    #set up base functions for the tank\n",
    "    "
   ]
  }
 ],
 "metadata": {
  "kernelspec": {
   "display_name": "Python 3",
   "language": "python",
   "name": "python3"
  },
  "language_info": {
   "codemirror_mode": {
    "name": "ipython",
    "version": 3
   },
   "file_extension": ".py",
   "mimetype": "text/x-python",
   "name": "python",
   "nbconvert_exporter": "python",
   "pygments_lexer": "ipython3",
   "version": "3.7.3"
  }
 },
 "nbformat": 4,
 "nbformat_minor": 2
}
